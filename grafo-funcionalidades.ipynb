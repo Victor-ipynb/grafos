{
 "cells": [
  {
   "cell_type": "code",
   "execution_count": 1,
   "id": "e60522e4",
   "metadata": {},
   "outputs": [],
   "source": [
    "from grafo import Grafo"
   ]
  },
  {
   "cell_type": "code",
   "execution_count": 2,
   "id": "65b9e40c",
   "metadata": {},
   "outputs": [],
   "source": [
    "dic = {\n",
    "    'cas':0,\n",
    "    'pra':1,\n",
    "    'arm':2,\n",
    "    'qui':3,\n",
    "    'can':4,\n",
    "    'ban':5,\n",
    "    'esc':6\n",
    "}"
   ]
  },
  {
   "cell_type": "code",
   "execution_count": 3,
   "id": "c70bf68a",
   "metadata": {},
   "outputs": [],
   "source": [
    "a = Grafo(dic)\n",
    "a.iniciar_lista()\n",
    "a.iniciar_matriz()"
   ]
  },
  {
   "cell_type": "code",
   "execution_count": 4,
   "id": "f99f5662",
   "metadata": {},
   "outputs": [],
   "source": [
    "a.adicionar_aresta(0, 2, 1, 5)\n",
    "a.adicionar_aresta(0, 1, 1, 6)\n",
    "a.adicionar_aresta(0, 3, 1, 10)\n",
    "a.adicionar_aresta(2, 5, 1, 13)\n",
    "a.adicionar_aresta(1, 5, 1, 11)\n",
    "a.adicionar_aresta(1, 3, 1, 3)\n",
    "a.adicionar_aresta(1, 4, 1, 6)\n",
    "a.adicionar_aresta(5, 3, 1, 6)\n",
    "a.adicionar_aresta(5, 6, 1, 3)\n",
    "a.adicionar_aresta(3, 4, 1, 4)\n",
    "a.adicionar_aresta(4, 6, 1, 8)"
   ]
  },
  {
   "cell_type": "code",
   "execution_count": 5,
   "id": "c0e7df75",
   "metadata": {},
   "outputs": [
    {
     "name": "stdout",
     "output_type": "stream",
     "text": [
      "[0, 1, 1, 1, 0, 0, 0]\n",
      "[1, 0, 0, 1, 1, 1, 0]\n",
      "[1, 0, 0, 0, 0, 1, 0]\n",
      "[1, 1, 0, 0, 1, 1, 0]\n",
      "[0, 1, 0, 1, 0, 0, 1]\n",
      "[0, 1, 1, 1, 0, 0, 1]\n",
      "[0, 0, 0, 0, 1, 1, 0]\n",
      "\n",
      "\n",
      "[[], [6], [5], [10], [], [], []]\n",
      "[[6], [], [], [3], [6], [11], []]\n",
      "[[5], [], [], [], [], [13], []]\n",
      "[[10], [3], [], [], [4], [6], []]\n",
      "[[], [6], [], [4], [], [], [8]]\n",
      "[[], [11], [13], [6], [], [], [3]]\n",
      "[[], [], [], [], [8], [3], []]\n",
      "\n",
      "\n",
      "0: -> [2, 5] -> [1, 6] -> [3, 10]\n",
      "\n",
      "1: -> [0, 6] -> [5, 11] -> [3, 3] -> [4, 6]\n",
      "\n",
      "2: -> [0, 5] -> [5, 13]\n",
      "\n",
      "3: -> [0, 10] -> [1, 3] -> [5, 6] -> [4, 4]\n",
      "\n",
      "4: -> [1, 6] -> [3, 4] -> [6, 8]\n",
      "\n",
      "5: -> [2, 13] -> [1, 11] -> [3, 6] -> [6, 3]\n",
      "\n",
      "6: -> [5, 3] -> [4, 8]\n",
      "\n"
     ]
    }
   ],
   "source": [
    "a.mostrar_grafo()"
   ]
  },
  {
   "cell_type": "code",
   "execution_count": 6,
   "id": "3dba490d",
   "metadata": {},
   "outputs": [
    {
     "name": "stdout",
     "output_type": "stream",
     "text": [
      "[[5, 2, 'cas-arm'], [6, 1, 'cas-pra'], [10, 3, 'cas-qui']]\n",
      "[[6, 1, 'cas-pra'], [10, 3, 'cas-qui'], [18, 5, 'cas-arm-ban']]\n",
      "[[9, 3, 'cas-pra-qui'], [10, 3, 'cas-qui'], [12, 4, 'cas-pra-can'], [17, 5, 'cas-pra-ban'], [18, 5, 'cas-arm-ban']]\n",
      "[[12, 4, 'cas-pra-can'], [15, 5, 'cas-pra-qui-ban'], [17, 5, 'cas-pra-ban'], [18, 5, 'cas-arm-ban']]\n",
      "[[15, 5, 'cas-pra-qui-ban'], [17, 5, 'cas-pra-ban'], [18, 5, 'cas-arm-ban'], [20, 6, 'cas-pra-can-esc']]\n",
      "[[18, 6, 'cas-pra-qui-ban-esc'], [20, 6, 'cas-pra-can-esc']]\n"
     ]
    }
   ],
   "source": [
    "a.calcular_rotas(0, 6)"
   ]
  },
  {
   "cell_type": "code",
   "execution_count": 7,
   "id": "2a6ccf88",
   "metadata": {},
   "outputs": [
    {
     "data": {
      "text/plain": [
       "[[0, 6, 5, 9, 12, 15, 18],\n",
       " [None, None, None, None, None, None, None],\n",
       " [None, None, None, None, None, None, None],\n",
       " [None, None, None, None, None, None, None],\n",
       " [None, None, None, None, None, None, None],\n",
       " [None, None, None, None, None, None, None],\n",
       " [None, None, None, None, None, None, None]]"
      ]
     },
     "execution_count": 7,
     "metadata": {},
     "output_type": "execute_result"
    }
   ],
   "source": [
    "a.rotas"
   ]
  },
  {
   "cell_type": "code",
   "execution_count": 8,
   "id": "7e9e0a20",
   "metadata": {},
   "outputs": [
    {
     "data": {
      "text/plain": [
       "[[True, True, True, True, True, True, True],\n",
       " [False, False, False, False, False, False, False],\n",
       " [False, False, False, False, False, False, False],\n",
       " [False, False, False, False, False, False, False],\n",
       " [False, False, False, False, False, False, False],\n",
       " [False, False, False, False, False, False, False],\n",
       " [False, False, False, False, False, False, False]]"
      ]
     },
     "execution_count": 8,
     "metadata": {},
     "output_type": "execute_result"
    }
   ],
   "source": [
    "a.brotas"
   ]
  },
  {
   "cell_type": "code",
   "execution_count": 9,
   "id": "648b53fc",
   "metadata": {},
   "outputs": [
    {
     "data": {
      "text/plain": [
       "[['cas',\n",
       "  'cas-pra',\n",
       "  'cas-arm',\n",
       "  'cas-pra-qui',\n",
       "  'cas-pra-can',\n",
       "  'cas-pra-qui-ban',\n",
       "  'cas-pra-qui-ban-esc'],\n",
       " [None, None, None, None, None, None, None],\n",
       " [None, None, None, None, None, None, None],\n",
       " [None, None, None, None, None, None, None],\n",
       " [None, None, None, None, None, None, None],\n",
       " [None, None, None, None, None, None, None],\n",
       " [None, None, None, None, None, None, None]]"
      ]
     },
     "execution_count": 9,
     "metadata": {},
     "output_type": "execute_result"
    }
   ],
   "source": [
    "a.mapa"
   ]
  },
  {
   "cell_type": "code",
   "execution_count": null,
   "id": "f5ff5443",
   "metadata": {},
   "outputs": [],
   "source": []
  }
 ],
 "metadata": {
  "kernelspec": {
   "display_name": "Python 3 (ipykernel)",
   "language": "python",
   "name": "python3"
  },
  "language_info": {
   "codemirror_mode": {
    "name": "ipython",
    "version": 3
   },
   "file_extension": ".py",
   "mimetype": "text/x-python",
   "name": "python",
   "nbconvert_exporter": "python",
   "pygments_lexer": "ipython3",
   "version": "3.9.12"
  }
 },
 "nbformat": 4,
 "nbformat_minor": 5
}
