{
 "cells": [
  {
   "cell_type": "code",
   "execution_count": 1,
   "id": "e60522e4",
   "metadata": {},
   "outputs": [],
   "source": [
    "from grafo import Grafo       #Grafo is a class for all the generic types of graphs."
   ]
  },
  {
   "cell_type": "code",
   "execution_count": 2,
   "id": "65b9e40c",
   "metadata": {},
   "outputs": [],
   "source": [
    "dic = {                       # The creation of a new element of Grafo is made by a dictionary like that one. The dic-\n",
    "    'Fortaleza':0,            #tionary keys are labels for illustration while the values are the weigths of wich one.\n",
    "    'Natal':1,                #But, in this example, we are using they as element index for better visualization.\n",
    "    'Teresina':2,\n",
    "    'Salvador':3,\n",
    "    'RioDeJaneiro':4,\n",
    "    'SãoPaulo':5,\n",
    "    'Curitiba':6\n",
    "}"
   ]
  },
  {
   "cell_type": "code",
   "execution_count": 3,
   "id": "c70bf68a",
   "metadata": {},
   "outputs": [],
   "source": [
    "CL = Grafo(dic)               #In this case, we are creating a map with some brazilian capitals.\n",
    "CL.iniciar_lista()            #\"iniciar_lista\" allocates space in the memory for a list of adjacencies.\n",
    "CL.iniciar_matriz()           #\"iniciar_matriz\" allocates space in the memory for a matrix of adjacencies."
   ]
  },
  {
   "cell_type": "code",
   "execution_count": 4,
   "id": "f99f5662",
   "metadata": {},
   "outputs": [],
   "source": [
    "CL.adicionar_aresta(0, 2, 1, 5)        #\"adicionar_aresta\" creates an arm connecting elements, changing the third input\n",
    "CL.adicionar_aresta(0, 1, 1, 6)        #in this function from a one to a zero makes the arm oriented, and the last in-\n",
    "CL.adicionar_aresta(0, 3, 1, 10)       #put is the weight of the connection.\n",
    "CL.adicionar_aresta(2, 5, 1, 13)\n",
    "CL.adicionar_aresta(1, 5, 1, 11)\n",
    "CL.adicionar_aresta(1, 3, 1, 3)\n",
    "CL.adicionar_aresta(1, 4, 1, 6)\n",
    "CL.adicionar_aresta(5, 3, 1, 6)\n",
    "CL.adicionar_aresta(5, 6, 1, 3)\n",
    "CL.adicionar_aresta(3, 4, 1, 4)\n",
    "CL.adicionar_aresta(4, 6, 1, 8)"
   ]
  },
  {
   "cell_type": "code",
   "execution_count": 5,
   "id": "c0e7df75",
   "metadata": {},
   "outputs": [
    {
     "name": "stdout",
     "output_type": "stream",
     "text": [
      "[0, 1, 1, 1, 0, 0, 0]\n",
      "[1, 0, 0, 1, 1, 1, 0]\n",
      "[1, 0, 0, 0, 0, 1, 0]\n",
      "[1, 1, 0, 0, 1, 1, 0]\n",
      "[0, 1, 0, 1, 0, 0, 1]\n",
      "[0, 1, 1, 1, 0, 0, 1]\n",
      "[0, 0, 0, 0, 1, 1, 0]\n",
      "\n",
      "\n",
      "[[], [6], [5], [10], [], [], []]\n",
      "[[6], [], [], [3], [6], [11], []]\n",
      "[[5], [], [], [], [], [13], []]\n",
      "[[10], [3], [], [], [4], [6], []]\n",
      "[[], [6], [], [4], [], [], [8]]\n",
      "[[], [11], [13], [6], [], [], [3]]\n",
      "[[], [], [], [], [8], [3], []]\n",
      "\n",
      "\n",
      "0: -> [2, 5] -> [1, 6] -> [3, 10]\n",
      "\n",
      "1: -> [0, 6] -> [5, 11] -> [3, 3] -> [4, 6]\n",
      "\n",
      "2: -> [0, 5] -> [5, 13]\n",
      "\n",
      "3: -> [0, 10] -> [1, 3] -> [5, 6] -> [4, 4]\n",
      "\n",
      "4: -> [1, 6] -> [3, 4] -> [6, 8]\n",
      "\n",
      "5: -> [2, 13] -> [1, 11] -> [3, 6] -> [6, 3]\n",
      "\n",
      "6: -> [5, 3] -> [4, 8]\n",
      "\n"
     ]
    }
   ],
   "source": [
    "CL.mostrar_grafo()             #\"mostrar_grafo\" shows all the active visualizations of the graph.\n",
    "                                                        \n",
    "                                                  #Note: The adjacencies matrix is divided in two: the first indicates\n",
    "                                                  #how many arms connects the elements, and the second one storages the\n",
    "                                                  #weight of the connections."
   ]
  },
  {
   "cell_type": "code",
   "execution_count": 6,
   "id": "3dba490d",
   "metadata": {},
   "outputs": [],
   "source": [
    "CL.calcular_rotas(0, 6)        #\"calcular_rotas\" runs the dijkstra algorithm starting in the first input, and wanting\n",
    "                               #to finish in the second."
   ]
  },
  {
   "cell_type": "code",
   "execution_count": 7,
   "id": "2a6ccf88",
   "metadata": {},
   "outputs": [
    {
     "data": {
      "text/plain": [
       "[[0, 6, 5, 9, 12, 15, 18],\n",
       " [None, None, None, None, None, None, None],\n",
       " [None, None, None, None, None, None, None],\n",
       " [None, None, None, None, None, None, None],\n",
       " [None, None, None, None, None, None, None],\n",
       " [None, None, None, None, None, None, None],\n",
       " [None, None, None, None, None, None, None]]"
      ]
     },
     "execution_count": 7,
     "metadata": {},
     "output_type": "execute_result"
    }
   ],
   "source": [
    "CL.rotas                      # After calculating the routes, their minimal distancies are situated in \"rotas\"."
   ]
  },
  {
   "cell_type": "code",
   "execution_count": 8,
   "id": "7e9e0a20",
   "metadata": {},
   "outputs": [
    {
     "data": {
      "text/plain": [
       "[[True, True, True, True, True, True, True],\n",
       " [False, False, False, False, False, False, False],\n",
       " [False, False, False, False, False, False, False],\n",
       " [False, False, False, False, False, False, False],\n",
       " [False, False, False, False, False, False, False],\n",
       " [False, False, False, False, False, False, False],\n",
       " [False, False, False, False, False, False, False]]"
      ]
     },
     "execution_count": 8,
     "metadata": {},
     "output_type": "execute_result"
    }
   ],
   "source": [
    "CL.brotas                     #\"brotas\" displays 'True' if the route found is the best, and 'False' if it doesn't."
   ]
  },
  {
   "cell_type": "code",
   "execution_count": 9,
   "id": "648b53fc",
   "metadata": {},
   "outputs": [
    {
     "data": {
      "text/plain": [
       "[['Fortaleza',\n",
       "  'Fortaleza-Natal',\n",
       "  'Fortaleza-Teresina',\n",
       "  'Fortaleza-Natal-Salvador',\n",
       "  'Fortaleza-Natal-RioDeJaneiro',\n",
       "  'Fortaleza-Natal-Salvador-SãoPaulo',\n",
       "  'Fortaleza-Natal-Salvador-SãoPaulo-Curitiba'],\n",
       " [None, None, None, None, None, None, None],\n",
       " [None, None, None, None, None, None, None],\n",
       " [None, None, None, None, None, None, None],\n",
       " [None, None, None, None, None, None, None],\n",
       " [None, None, None, None, None, None, None],\n",
       " [None, None, None, None, None, None, None]]"
      ]
     },
     "execution_count": 9,
     "metadata": {},
     "output_type": "execute_result"
    }
   ],
   "source": [
    "CL.mapa                       #\"mapa\" actually tells what is the route that was found."
   ]
  },
  {
   "cell_type": "code",
   "execution_count": null,
   "id": "f5ff5443",
   "metadata": {},
   "outputs": [],
   "source": []
  }
 ],
 "metadata": {
  "kernelspec": {
   "display_name": "Python 3 (ipykernel)",
   "language": "python",
   "name": "python3"
  },
  "language_info": {
   "codemirror_mode": {
    "name": "ipython",
    "version": 3
   },
   "file_extension": ".py",
   "mimetype": "text/x-python",
   "name": "python",
   "nbconvert_exporter": "python",
   "pygments_lexer": "ipython3",
   "version": "3.9.12"
  }
 },
 "nbformat": 4,
 "nbformat_minor": 5
}
