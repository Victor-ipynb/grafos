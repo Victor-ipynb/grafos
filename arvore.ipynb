{
 "cells": [
  {
   "cell_type": "code",
   "execution_count": 1,
   "id": "4a701efa",
   "metadata": {},
   "outputs": [],
   "source": [
    "from grafo import Grafo"
   ]
  },
  {
   "cell_type": "code",
   "execution_count": 19,
   "id": "d6b7054f",
   "metadata": {},
   "outputs": [],
   "source": [
    "class Barvore(Grafo):\n",
    "    \n",
    "    def __init__(self, vertices):\n",
    "        super().__init__(vertices)\n",
    "    \n",
    "    def BB_comparar(self, elemento, c = 0):\n",
    "        if self.arvore[c]:\n",
    "            if elemento > self.arvore[c]:\n",
    "                self.BB_comparar(elemento, 2*c+2)\n",
    "            elif elemento < self.arvore[c]:\n",
    "                self.BB_comparar(elemento, 2*c+1)\n",
    "        else:\n",
    "            self.arvore[c] = elemento\n",
    "    \n",
    "    def BB_buscar(self, elemento, c = 0):\n",
    "        if self.arvore[c]:\n",
    "            if elemento == self.arvore[c]:\n",
    "                print(c)\n",
    "                return c\n",
    "            elif elemento > self.arvore[c]:\n",
    "                self.BB_buscar(elemento, 2*c+2)\n",
    "            else:\n",
    "                self.BB_buscar(elemento, 2*c+1)\n",
    "    \n",
    "    def transformar_em_BB(self):\n",
    "        self.arvore = [None]*(2**len(self.vertices) - 1)\n",
    "        for i in range(self.v):\n",
    "            self.BB_comparar(self.valores[i])\n",
    "    \n",
    "    def heap_subir(self, c):\n",
    "        if len(self.arvore) > 2*c+1:\n",
    "            e = self.arvore[2*c+1]\n",
    "        if len(self.arvore) > 2*c+2:\n",
    "            d = self.arvore[2*c+2]\n",
    "            if e > d:\n",
    "                t = (e,1)\n",
    "            else:\n",
    "                t = (d,2)\n",
    "        else:\n",
    "            t = (e,1)\n",
    "        if t[0] > self.arvore[c]:\n",
    "            self.arvore[2*c+t[1]] = self.arvore[c]\n",
    "            self.arvore[c] = t[0]\n",
    "            if c == 0:\n",
    "                return None\n",
    "            elif int(c/2) == c/2:\n",
    "                self.heap_subir(int(c/2)-1)\n",
    "            else:\n",
    "                self.heap_subir(int(c/2))\n",
    "    \n",
    "    def heap_descer(self, c = 0):\n",
    "        if len(self.arvore) > 2*c+1:\n",
    "            e = self.arvore[2*c+1]\n",
    "        else:\n",
    "            return None\n",
    "        if len(self.arvore) > 2*c+2:\n",
    "            d = self.arvore[2*c+2]\n",
    "            if e > d:\n",
    "                t = (e,1)\n",
    "            else:\n",
    "                t = (d,2)\n",
    "        else:\n",
    "            t = (e,1)\n",
    "        if t[0] > self.arvore[c]:\n",
    "            self.arvore[2*c+t[1]] = self.arvore[c]\n",
    "            self.arvore[c] = t[0]\n",
    "            self.heap_descer(2*c+t[1])\n",
    "            \n",
    "    def heap_adicionar(self, elemento):\n",
    "        self.arvore.append(elemento)\n",
    "        self.heap_subir(int(len(self.arvore)/2)-1)\n",
    "    \n",
    "    def heap_remover(self):\n",
    "        self.arvore[0] = self.arvore[-1]\n",
    "        self.arvore.pop()\n",
    "        self.heap_descer()\n",
    "    \n",
    "    def transformar_em_heap(self):\n",
    "        self.arvore = []\n",
    "        for i in range(self.v):\n",
    "            self.heap_adicionar(self.valores[i])\n",
    "        "
   ]
  },
  {
   "cell_type": "code",
   "execution_count": 20,
   "id": "5c6205aa",
   "metadata": {},
   "outputs": [],
   "source": [
    "dic = {\n",
    "    'Fortal':10,\n",
    "    'Curitiba':2,\n",
    "    'São Paulo':12,\n",
    "    'Rio de Janeiro':7,\n",
    "    'Natal': 8,\n",
    "    'Salvador': 9,\n",
    "    'Teresina':20,\n",
    "    'Brasilia':2\n",
    "}"
   ]
  },
  {
   "cell_type": "code",
   "execution_count": 26,
   "id": "3f45cfd1",
   "metadata": {},
   "outputs": [],
   "source": [
    "a = Barvore(dic)"
   ]
  },
  {
   "cell_type": "code",
   "execution_count": 27,
   "id": "7f3b44de",
   "metadata": {},
   "outputs": [],
   "source": [
    "a.transformar_em_BB()"
   ]
  },
  {
   "cell_type": "code",
   "execution_count": 28,
   "id": "944c76f1",
   "metadata": {},
   "outputs": [
    {
     "data": {
      "text/plain": [
       "9"
      ]
     },
     "execution_count": 28,
     "metadata": {},
     "output_type": "execute_result"
    }
   ],
   "source": [
    "a.arvore[22]"
   ]
  },
  {
   "cell_type": "code",
   "execution_count": 29,
   "id": "f2e5dfdc",
   "metadata": {},
   "outputs": [
    {
     "name": "stdout",
     "output_type": "stream",
     "text": [
      "22\n"
     ]
    }
   ],
   "source": [
    "a.BB_buscar(9)"
   ]
  },
  {
   "cell_type": "code",
   "execution_count": 21,
   "id": "38ec2296",
   "metadata": {},
   "outputs": [],
   "source": [
    "b = Barvore(dic)"
   ]
  },
  {
   "cell_type": "code",
   "execution_count": 22,
   "id": "8e76d468",
   "metadata": {},
   "outputs": [],
   "source": [
    "b.transformar_em_heap()"
   ]
  },
  {
   "cell_type": "code",
   "execution_count": 23,
   "id": "6dbf1eec",
   "metadata": {},
   "outputs": [
    {
     "data": {
      "text/plain": [
       "[20, 8, 12, 2, 7, 9, 10, 2]"
      ]
     },
     "execution_count": 23,
     "metadata": {},
     "output_type": "execute_result"
    }
   ],
   "source": [
    "b.arvore"
   ]
  },
  {
   "cell_type": "code",
   "execution_count": 24,
   "id": "d254a793",
   "metadata": {},
   "outputs": [],
   "source": [
    "b.heap_remover()"
   ]
  },
  {
   "cell_type": "code",
   "execution_count": 25,
   "id": "3069c083",
   "metadata": {},
   "outputs": [
    {
     "data": {
      "text/plain": [
       "[12, 8, 10, 2, 7, 9, 2]"
      ]
     },
     "execution_count": 25,
     "metadata": {},
     "output_type": "execute_result"
    }
   ],
   "source": [
    "b.arvore"
   ]
  },
  {
   "cell_type": "code",
   "execution_count": null,
   "id": "2bbdd57a",
   "metadata": {},
   "outputs": [],
   "source": []
  }
 ],
 "metadata": {
  "kernelspec": {
   "display_name": "Python 3 (ipykernel)",
   "language": "python",
   "name": "python3"
  },
  "language_info": {
   "codemirror_mode": {
    "name": "ipython",
    "version": 3
   },
   "file_extension": ".py",
   "mimetype": "text/x-python",
   "name": "python",
   "nbconvert_exporter": "python",
   "pygments_lexer": "ipython3",
   "version": "3.9.12"
  }
 },
 "nbformat": 4,
 "nbformat_minor": 5
}
