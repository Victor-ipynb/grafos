{
 "cells": [
  {
   "cell_type": "code",
   "execution_count": 1,
   "id": "4a701efa",
   "metadata": {},
   "outputs": [],
   "source": [
    "from grafo import Grafo"
   ]
  },
  {
   "cell_type": "code",
   "execution_count": 118,
   "id": "d6b7054f",
   "metadata": {},
   "outputs": [],
   "source": [
    "class Barvore(Grafo):\n",
    "    \n",
    "    def __init__(self, vertices):\n",
    "        self.arvore = [None]*(2**len(vertices) - 1)\n",
    "        super().__init__(vertices)\n",
    "    \n",
    "    def BB_comparar(self, elemento, c = 0):\n",
    "        if self.arvore[c]:\n",
    "            if elemento > self.arvore[c]:\n",
    "                self.BB_comparar(elemento, 2*c+2)\n",
    "            elif elemento < self.arvore[c]:\n",
    "                self.BB_comparar(elemento, 2*c+1)\n",
    "        else:\n",
    "            self.arvore[c] = elemento\n",
    "    \n",
    "    def BB_buscar(self, elemento, c = 0):\n",
    "        if self.arvore[c]:\n",
    "            if elemento == self.arvore[c]:\n",
    "                print(c)\n",
    "                return c\n",
    "            elif elemento > self.arvore[c]:\n",
    "                self.BB_buscar(elemento, 2*c+2)\n",
    "            else:\n",
    "                self.BB_buscar(elemento, 2*c+1)\n",
    "    \n",
    "    def transformar_em_BB(self):\n",
    "        for i in range(self.v):\n",
    "            self.BB_comparar(self.valores[i])\n",
    "    \n",
    "    def transformar_em_heap(self):\n",
    "        pass\n",
    "        "
   ]
  },
  {
   "cell_type": "code",
   "execution_count": 119,
   "id": "5c6205aa",
   "metadata": {},
   "outputs": [],
   "source": [
    "dic = {\n",
    "    'Fortal':10,\n",
    "    'Curitiba':2,\n",
    "    'São Paulo':12,\n",
    "    'Rio de Janeiro':7,\n",
    "    'Natal': 8,\n",
    "    'Salvador': 9\n",
    "}"
   ]
  },
  {
   "cell_type": "code",
   "execution_count": 120,
   "id": "3f45cfd1",
   "metadata": {},
   "outputs": [],
   "source": [
    "a = Barvore(dic)"
   ]
  },
  {
   "cell_type": "code",
   "execution_count": 121,
   "id": "7f3b44de",
   "metadata": {},
   "outputs": [],
   "source": [
    "a.transformar_em_BB()"
   ]
  },
  {
   "cell_type": "code",
   "execution_count": 122,
   "id": "944c76f1",
   "metadata": {},
   "outputs": [
    {
     "data": {
      "text/plain": [
       "9"
      ]
     },
     "execution_count": 122,
     "metadata": {},
     "output_type": "execute_result"
    }
   ],
   "source": [
    "a.arvore[22]"
   ]
  },
  {
   "cell_type": "code",
   "execution_count": 127,
   "id": "f2e5dfdc",
   "metadata": {},
   "outputs": [
    {
     "name": "stdout",
     "output_type": "stream",
     "text": [
      "22\n"
     ]
    }
   ],
   "source": [
    "a.BB_buscar(9)"
   ]
  },
  {
   "cell_type": "code",
   "execution_count": null,
   "id": "33ca478b",
   "metadata": {},
   "outputs": [],
   "source": []
  }
 ],
 "metadata": {
  "kernelspec": {
   "display_name": "Python 3 (ipykernel)",
   "language": "python",
   "name": "python3"
  },
  "language_info": {
   "codemirror_mode": {
    "name": "ipython",
    "version": 3
   },
   "file_extension": ".py",
   "mimetype": "text/x-python",
   "name": "python",
   "nbconvert_exporter": "python",
   "pygments_lexer": "ipython3",
   "version": "3.9.12"
  }
 },
 "nbformat": 4,
 "nbformat_minor": 5
}
