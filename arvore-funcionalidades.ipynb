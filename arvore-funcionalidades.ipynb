{
 "cells": [
  {
   "cell_type": "code",
   "execution_count": 1,
   "id": "7a222cdb",
   "metadata": {},
   "outputs": [],
   "source": [
    "from grafo import Barvore #Barvore stands for Binary Tree. This is the type of grath wich is most suited for this class"
   ]
  },
  {
   "cell_type": "code",
   "execution_count": 2,
   "id": "20b8e01a",
   "metadata": {},
   "outputs": [],
   "source": [
    "dic = {                   # The creation of a new element of Barvore is made by a dictionary like that one. The dic-\n",
    "    'Fortal':10,          #tionary keys are labels for illustration while the values are the weigths of wich one.\n",
    "    'Curitiba':2,\n",
    "    'São Paulo':12,\n",
    "    'Rio de Janeiro':7,\n",
    "    'Natal': 8,\n",
    "    'Salvador': 9,\n",
    "    'Teresina':20,\n",
    "    'Brasilia':2\n",
    "}"
   ]
  },
  {
   "cell_type": "code",
   "execution_count": 3,
   "id": "56dc1e7f",
   "metadata": {},
   "outputs": [
    {
     "data": {
      "text/plain": [
       "[10,\n",
       " 2,\n",
       " 12,\n",
       " None,\n",
       " 7,\n",
       " None,\n",
       " 20,\n",
       " None,\n",
       " None,\n",
       " None,\n",
       " 8,\n",
       " None,\n",
       " None,\n",
       " None,\n",
       " None,\n",
       " None,\n",
       " None,\n",
       " None,\n",
       " None,\n",
       " None,\n",
       " None,\n",
       " None,\n",
       " 9]"
      ]
     },
     "execution_count": 3,
     "metadata": {},
     "output_type": "execute_result"
    }
   ],
   "source": [
    "BST = Barvore(dic)        # In this initial example, we are creating a Binary Search Three.\n",
    "BST.transformar_em_BB()   # With the input made by a dictionary, all there is left to do is call \"transformar_em_BB\".\n",
    "BST.arvore                # \"arvore\" shows the state of the tree. After the last line the left-side children of a \n",
    "                          #vertex wich index is 'i' is stored in the index 2*i+1, while the right-side children, 2*i+2.\n",
    "                          #The list size is automatically updated to best fit all the data."
   ]
  },
  {
   "cell_type": "code",
   "execution_count": 4,
   "id": "822167f9",
   "metadata": {},
   "outputs": [
    {
     "name": "stdout",
     "output_type": "stream",
     "text": [
      "22\n"
     ]
    }
   ],
   "source": [
    "BST.BB_buscar(9)         #With \"BB_buscar(x)\", we can find the index of any x element in the search tree with loga-\n",
    "                         #rithm time."
   ]
  },
  {
   "cell_type": "code",
   "execution_count": 5,
   "id": "ec7cce66",
   "metadata": {},
   "outputs": [
    {
     "data": {
      "text/plain": [
       "9"
      ]
     },
     "execution_count": 5,
     "metadata": {},
     "output_type": "execute_result"
    }
   ],
   "source": [
    "BST.arvore[22]           #Just as illustrated."
   ]
  },
  {
   "cell_type": "code",
   "execution_count": 6,
   "id": "ff7a870d",
   "metadata": {},
   "outputs": [
    {
     "data": {
      "text/plain": [
       "[20, 8, 12, 2, 7, 9, 10, 2]"
      ]
     },
     "execution_count": 6,
     "metadata": {},
     "output_type": "execute_result"
    }
   ],
   "source": [
    "HEAP = Barvore(dic)              #In this case, we are using the same dictionary, but, this time, the data is being or-\n",
    "HEAP.transformar_em_heap()       #ganized in a heap structure.\n",
    "HEAP.arvore                                                   # Note: the parent-children index notation is the same as\n",
    "                                                              #the BST example."
   ]
  },
  {
   "cell_type": "code",
   "execution_count": 7,
   "id": "7ee356c2",
   "metadata": {},
   "outputs": [
    {
     "data": {
      "text/plain": [
       "[12, 8, 10, 2, 7, 9, 2]"
      ]
     },
     "execution_count": 7,
     "metadata": {},
     "output_type": "execute_result"
    }
   ],
   "source": [
    "HEAP.heap_remover()              #Options for removing the root element of the heap are also implemented.\n",
    "HEAP.arvore"
   ]
  },
  {
   "cell_type": "code",
   "execution_count": 8,
   "id": "00db6914",
   "metadata": {},
   "outputs": [
    {
     "data": {
      "text/plain": [
       "[12, 11, 10, 8, 7, 9, 2, 2]"
      ]
     },
     "execution_count": 8,
     "metadata": {},
     "output_type": "execute_result"
    }
   ],
   "source": [
    "HEAP.heap_adicionar(11)          #Together with the addition of an element.\n",
    "HEAP.arvore"
   ]
  },
  {
   "cell_type": "code",
   "execution_count": null,
   "id": "a498a41e",
   "metadata": {},
   "outputs": [],
   "source": []
  }
 ],
 "metadata": {
  "kernelspec": {
   "display_name": "Python 3 (ipykernel)",
   "language": "python",
   "name": "python3"
  },
  "language_info": {
   "codemirror_mode": {
    "name": "ipython",
    "version": 3
   },
   "file_extension": ".py",
   "mimetype": "text/x-python",
   "name": "python",
   "nbconvert_exporter": "python",
   "pygments_lexer": "ipython3",
   "version": "3.9.12"
  }
 },
 "nbformat": 4,
 "nbformat_minor": 5
}
